{
  "cells": [
    {
      "cell_type": "markdown",
      "metadata": {
        "id": "bFWbEb6uGbN-"
      },
      "source": [
        "# Week 4: Predicting the next word\n",
        "\n",
        "Welcome to this assignment! During this week you saw how to create a model that will predict the next word in a text sequence, now you will implement such model and train it using a corpus of Shakespeare's sonnets, while also creating some helper functions to pre-process the data.\n",
        "\n",
        "\n",
        "Let's get started!"
      ]
    },
    {
      "cell_type": "code",
      "execution_count": 22,
      "metadata": {
        "id": "BOwsuGQQY9OL"
      },
      "outputs": [],
      "source": [
        "import numpy as np \n",
        "import matplotlib.pyplot as plt\n",
        "from tensorflow.keras.models import Sequential\n",
        "from tensorflow.keras.utils import to_categorical \n",
        "from tensorflow.keras.preprocessing.text import Tokenizer\n",
        "from tensorflow.keras.preprocessing.sequence import pad_sequences\n",
        "from tensorflow.keras.layers import Embedding, LSTM, Dense, Bidirectional, Dropout\n",
        "from tensorflow.keras import regularizers"
      ]
    },
    {
      "cell_type": "markdown",
      "metadata": {
        "id": "BTxqlHqKHzhr"
      },
      "source": [
        "For this assignment you will be using the [Shakespeare Sonnets Dataset](https://www.opensourceshakespeare.org/views/sonnets/sonnet_view.php?range=viewrange&sonnetrange1=1&sonnetrange2=154), which contains more than 2000 lines of text extracted from Shakespeare's sonnets."
      ]
    },
    {
      "cell_type": "code",
      "execution_count": 2,
      "metadata": {
        "id": "WZ4qOUzujMP6",
        "colab": {
          "base_uri": "https://localhost:8080/"
        },
        "outputId": "adba41c4-b455-48f6-dc0b-b7b33ea5325a"
      },
      "outputs": [
        {
          "output_type": "stream",
          "name": "stdout",
          "text": [
            "/usr/local/lib/python3.7/dist-packages/gdown/cli.py:131: FutureWarning: Option `--id` was deprecated in version 4.3.1 and will be removed in 5.0. You don't need to pass it anymore to use a file ID.\n",
            "  category=FutureWarning,\n",
            "Downloading...\n",
            "From: https://drive.google.com/uc?id=108jAePKK4R3BVYBbYJZ32JWUwxeMg20K\n",
            "To: /content/sonnets.txt\n",
            "100% 93.6k/93.6k [00:00<00:00, 67.5MB/s]\n"
          ]
        }
      ],
      "source": [
        "# sonnets.txt\n",
        "!gdown --id 108jAePKK4R3BVYBbYJZ32JWUwxeMg20K"
      ]
    },
    {
      "cell_type": "code",
      "execution_count": 3,
      "metadata": {
        "id": "Pfd-nYKij5yY",
        "colab": {
          "base_uri": "https://localhost:8080/"
        },
        "outputId": "22a0f670-e974-49e9-af59-dc91ec49bec8"
      },
      "outputs": [
        {
          "output_type": "stream",
          "name": "stdout",
          "text": [
            "There are 2159 lines of sonnets\n",
            "\n",
            "The first 5 lines look like this:\n",
            "\n",
            "from fairest creatures we desire increase,\n",
            "that thereby beauty's rose might never die,\n",
            "but as the riper should by time decease,\n",
            "his tender heir might bear his memory:\n",
            "but thou, contracted to thine own bright eyes,\n"
          ]
        }
      ],
      "source": [
        "# Define path for file with sonnets\n",
        "SONNETS_FILE = './sonnets.txt'\n",
        "\n",
        "# Read the data\n",
        "with open('./sonnets.txt') as f:\n",
        "    data = f.read()\n",
        "\n",
        "# Convert to lower case and save as a list\n",
        "corpus = data.lower().split(\"\\n\")\n",
        "\n",
        "print(f\"There are {len(corpus)} lines of sonnets\\n\")\n",
        "print(f\"The first 5 lines look like this:\\n\")\n",
        "for i in range(5):\n",
        "  print(corpus[i])"
      ]
    },
    {
      "cell_type": "markdown",
      "metadata": {
        "id": "imB15zrSNhA1"
      },
      "source": [
        "## Tokenizing the text\n",
        "\n",
        "Now fit the Tokenizer to the corpus and save the total number of words."
      ]
    },
    {
      "cell_type": "code",
      "execution_count": 4,
      "metadata": {
        "id": "AAhM_qAZk0o5"
      },
      "outputs": [],
      "source": [
        "tokenizer = Tokenizer()\n",
        "tokenizer.fit_on_texts(corpus)\n",
        "total_words = len(tokenizer.word_index) + 1"
      ]
    },
    {
      "cell_type": "markdown",
      "metadata": {
        "id": "77-0sA46OETa"
      },
      "source": [
        "When converting the text into sequences you can use the `texts_to_sequences` method as you have done throughout this course.\n",
        "\n",
        "In the next graded function you will need to process this corpus one line at a time. Given this, it is important to keep in mind that the way you are feeding the data unto this method affects the result. Check the following example to make this clearer.\n",
        "\n",
        "The first example of the corpus is a string and looks like this:"
      ]
    },
    {
      "cell_type": "code",
      "execution_count": 5,
      "metadata": {
        "id": "tqhPxdeXlfjh",
        "colab": {
          "base_uri": "https://localhost:8080/",
          "height": 35
        },
        "outputId": "5d0768d0-8ba8-4bef-8eb6-8d7ab3ba2395"
      },
      "outputs": [
        {
          "output_type": "execute_result",
          "data": {
            "text/plain": [
              "'from fairest creatures we desire increase,'"
            ],
            "application/vnd.google.colaboratory.intrinsic+json": {
              "type": "string"
            }
          },
          "metadata": {},
          "execution_count": 5
        }
      ],
      "source": [
        "corpus[0]"
      ]
    },
    {
      "cell_type": "markdown",
      "metadata": {
        "id": "XFMP4z11O3os"
      },
      "source": [
        "If you pass this text directly into the `texts_to_sequences` method you will get an unexpected result:"
      ]
    },
    {
      "cell_type": "code",
      "execution_count": 6,
      "metadata": {
        "id": "EMSEhmbzNZCE",
        "colab": {
          "base_uri": "https://localhost:8080/"
        },
        "outputId": "c6d8bf14-2ac2-41c3-d6e0-2394bfdb7c9a"
      },
      "outputs": [
        {
          "output_type": "execute_result",
          "data": {
            "text/plain": [
              "[[],\n",
              " [],\n",
              " [58],\n",
              " [],\n",
              " [],\n",
              " [],\n",
              " [17],\n",
              " [6],\n",
              " [],\n",
              " [],\n",
              " [],\n",
              " [],\n",
              " [],\n",
              " [],\n",
              " [],\n",
              " [],\n",
              " [17],\n",
              " [],\n",
              " [],\n",
              " [],\n",
              " [],\n",
              " [],\n",
              " [],\n",
              " [],\n",
              " [],\n",
              " [],\n",
              " [],\n",
              " [],\n",
              " [],\n",
              " [6],\n",
              " [],\n",
              " [],\n",
              " [],\n",
              " [6],\n",
              " [],\n",
              " [],\n",
              " [],\n",
              " [],\n",
              " [17],\n",
              " [],\n",
              " [],\n",
              " []]"
            ]
          },
          "metadata": {},
          "execution_count": 6
        }
      ],
      "source": [
        "tokenizer.texts_to_sequences(corpus[0])"
      ]
    },
    {
      "cell_type": "markdown",
      "metadata": {
        "id": "pPZmZtpEPEeI"
      },
      "source": [
        "This happened because `texts_to_sequences` expects a list and you are providing a string. However a string is still and `iterable` in Python so you will get the word index of every character in the string.\n",
        "\n",
        "Instead you need to place the example whithin a list before passing it to the method:"
      ]
    },
    {
      "cell_type": "code",
      "execution_count": 7,
      "metadata": {
        "id": "Qmgo-vXhk4nd",
        "colab": {
          "base_uri": "https://localhost:8080/"
        },
        "outputId": "097a1029-e3b4-4491-e63a-e2ce4509cc5c"
      },
      "outputs": [
        {
          "output_type": "execute_result",
          "data": {
            "text/plain": [
              "[[34, 417, 877, 166, 213, 517]]"
            ]
          },
          "metadata": {},
          "execution_count": 7
        }
      ],
      "source": [
        "tokenizer.texts_to_sequences([corpus[0]])"
      ]
    },
    {
      "cell_type": "markdown",
      "metadata": {
        "id": "0DU7wK-eQ5dc"
      },
      "source": [
        "Notice that you received the sequence wrapped inside a list so in order to get only the desired sequence you need to explicitly get the first item in the list like this:"
      ]
    },
    {
      "cell_type": "code",
      "execution_count": 8,
      "metadata": {
        "id": "kpTy8WmIQ57P",
        "colab": {
          "base_uri": "https://localhost:8080/"
        },
        "outputId": "6ba83678-c7b7-4142-eb59-9cc26988c71c"
      },
      "outputs": [
        {
          "output_type": "execute_result",
          "data": {
            "text/plain": [
              "[34, 417, 877, 166, 213, 517]"
            ]
          },
          "metadata": {},
          "execution_count": 8
        }
      ],
      "source": [
        "tokenizer.texts_to_sequences([corpus[0]])[0]"
      ]
    },
    {
      "cell_type": "markdown",
      "metadata": {
        "id": "-oqy9KjXRJ9A"
      },
      "source": [
        "## Generating n_grams\n",
        "\n",
        "Now complete the `n_gram_seqs` function below. This function receives the fitted tokenizer and the corpus (which is a list of strings) and should return a list containing the `n_gram` sequences for each line in the corpus:"
      ]
    },
    {
      "cell_type": "code",
      "execution_count": 9,
      "metadata": {
        "id": "iy4baJMDl6kj"
      },
      "outputs": [],
      "source": [
        "# GRADED FUNCTION: n_gram_seqs\n",
        "def n_gram_seqs(corpus, tokenizer):\n",
        "\tinput_sequences = []\n",
        "\n",
        "\t### START CODE HERE\n",
        "\tfor line in corpus:\n",
        "\t\ttoken_list = tokenizer.texts_to_sequences([line])[0]\n",
        "\t\tfor i in range(1, len(token_list)):\n",
        "\t\t\tn_gram_sequence = token_list[:i+1]\n",
        "\t\t\tinput_sequences.append(n_gram_sequence)\n",
        "\t### END CODE HERE\n",
        "\t \n",
        "\treturn input_sequences"
      ]
    },
    {
      "cell_type": "code",
      "execution_count": 10,
      "metadata": {
        "id": "DlKqW2pfM7G3",
        "colab": {
          "base_uri": "https://localhost:8080/"
        },
        "outputId": "057b2523-d58d-40d1-bf5c-37014e3b2eef"
      },
      "outputs": [
        {
          "output_type": "stream",
          "name": "stdout",
          "text": [
            "n_gram sequences for first example look like this:\n",
            "\n"
          ]
        },
        {
          "output_type": "execute_result",
          "data": {
            "text/plain": [
              "[[34, 417],\n",
              " [34, 417, 877],\n",
              " [34, 417, 877, 166],\n",
              " [34, 417, 877, 166, 213],\n",
              " [34, 417, 877, 166, 213, 517]]"
            ]
          },
          "metadata": {},
          "execution_count": 10
        }
      ],
      "source": [
        "# Test your function with one example\n",
        "first_example_sequence = n_gram_seqs([corpus[0]], tokenizer)\n",
        "\n",
        "print(\"n_gram sequences for first example look like this:\\n\")\n",
        "first_example_sequence"
      ]
    },
    {
      "cell_type": "markdown",
      "metadata": {
        "id": "0HL8Ug6UU0Jt"
      },
      "source": [
        "**Expected Output:**\n",
        "\n",
        "```\n",
        "n_gram sequences for first example look like this:\n",
        "\n",
        "[[34, 417],\n",
        " [34, 417, 877],\n",
        " [34, 417, 877, 166],\n",
        " [34, 417, 877, 166, 213],\n",
        " [34, 417, 877, 166, 213, 517]]\n",
        "```"
      ]
    },
    {
      "cell_type": "code",
      "execution_count": 11,
      "metadata": {
        "id": "wtPpCcBjNc4c",
        "colab": {
          "base_uri": "https://localhost:8080/"
        },
        "outputId": "c3f33dd5-7935-4d00-8272-8e90bde1addd"
      },
      "outputs": [
        {
          "output_type": "stream",
          "name": "stdout",
          "text": [
            "n_gram sequences for next 3 examples look like this:\n",
            "\n"
          ]
        },
        {
          "output_type": "execute_result",
          "data": {
            "text/plain": [
              "[[8, 878],\n",
              " [8, 878, 134],\n",
              " [8, 878, 134, 351],\n",
              " [8, 878, 134, 351, 102],\n",
              " [8, 878, 134, 351, 102, 156],\n",
              " [8, 878, 134, 351, 102, 156, 199],\n",
              " [16, 22],\n",
              " [16, 22, 2],\n",
              " [16, 22, 2, 879],\n",
              " [16, 22, 2, 879, 61],\n",
              " [16, 22, 2, 879, 61, 30],\n",
              " [16, 22, 2, 879, 61, 30, 48],\n",
              " [16, 22, 2, 879, 61, 30, 48, 634],\n",
              " [25, 311],\n",
              " [25, 311, 635],\n",
              " [25, 311, 635, 102],\n",
              " [25, 311, 635, 102, 200],\n",
              " [25, 311, 635, 102, 200, 25],\n",
              " [25, 311, 635, 102, 200, 25, 278]]"
            ]
          },
          "metadata": {},
          "execution_count": 11
        }
      ],
      "source": [
        "# Test your function with a bigger corpus\n",
        "next_3_examples_sequence = n_gram_seqs(corpus[1:4], tokenizer)\n",
        "\n",
        "print(\"n_gram sequences for next 3 examples look like this:\\n\")\n",
        "next_3_examples_sequence"
      ]
    },
    {
      "cell_type": "markdown",
      "metadata": {
        "id": "EIzecMczU9UB"
      },
      "source": [
        "**Expected Output:**\n",
        "\n",
        "```\n",
        "n_gram sequences for next 3 examples look like this:\n",
        "\n",
        "[[8, 878],\n",
        " [8, 878, 134],\n",
        " [8, 878, 134, 351],\n",
        " [8, 878, 134, 351, 102],\n",
        " [8, 878, 134, 351, 102, 156],\n",
        " [8, 878, 134, 351, 102, 156, 199],\n",
        " [16, 22],\n",
        " [16, 22, 2],\n",
        " [16, 22, 2, 879],\n",
        " [16, 22, 2, 879, 61],\n",
        " [16, 22, 2, 879, 61, 30],\n",
        " [16, 22, 2, 879, 61, 30, 48],\n",
        " [16, 22, 2, 879, 61, 30, 48, 634],\n",
        " [25, 311],\n",
        " [25, 311, 635],\n",
        " [25, 311, 635, 102],\n",
        " [25, 311, 635, 102, 200],\n",
        " [25, 311, 635, 102, 200, 25],\n",
        " [25, 311, 635, 102, 200, 25, 278]]\n",
        "```"
      ]
    },
    {
      "cell_type": "markdown",
      "metadata": {
        "id": "dx3V_RjFWQSu"
      },
      "source": [
        "Apply the `n_gram_seqs` transformation to the whole corpus and save the maximum sequence length to use it later:"
      ]
    },
    {
      "cell_type": "code",
      "execution_count": 12,
      "metadata": {
        "id": "laMwiRUpmuSd",
        "colab": {
          "base_uri": "https://localhost:8080/"
        },
        "outputId": "1c118b2f-8aef-4f11-8c3e-8533d29da317"
      },
      "outputs": [
        {
          "output_type": "stream",
          "name": "stdout",
          "text": [
            "n_grams of input_sequences have length: 15462\n",
            "maximum length of sequences is: 11\n"
          ]
        }
      ],
      "source": [
        "# Apply the n_gram_seqs transformation to the whole corpus\n",
        "input_sequences = n_gram_seqs(corpus, tokenizer)\n",
        "\n",
        "# Save max length \n",
        "max_sequence_len = max([len(x) for x in input_sequences])\n",
        "\n",
        "print(f\"n_grams of input_sequences have length: {len(input_sequences)}\")\n",
        "print(f\"maximum length of sequences is: {max_sequence_len}\")"
      ]
    },
    {
      "cell_type": "markdown",
      "metadata": {
        "id": "2OciMdmEdE9L"
      },
      "source": [
        "**Expected Output:**\n",
        "\n",
        "```\n",
        "n_grams of input_sequences have length: 15462\n",
        "maximum length of sequences is: 11\n",
        "```"
      ]
    },
    {
      "cell_type": "markdown",
      "metadata": {
        "id": "zHY7HroqWq12"
      },
      "source": [
        "## Add padding to the sequences\n",
        "\n",
        "Now code the `pad_seqs` function which will pad any given sequences to the desired maximum length. Notice that this function receives a list of sequences and should return a numpy array with the padded sequences: "
      ]
    },
    {
      "cell_type": "code",
      "execution_count": 14,
      "metadata": {
        "cellView": "code",
        "id": "WW1-qAZaWOhC"
      },
      "outputs": [],
      "source": [
        "# GRADED FUNCTION: pad_seqs\n",
        "def pad_seqs(input_sequences, maxlen):\n",
        "    ### START CODE HERE\n",
        "    padded_sequences = np.array(pad_sequences(input_sequences, \n",
        "                                            maxlen = maxlen, \n",
        "                                            padding = 'pre'))\n",
        "    \n",
        "    return padded_sequences\n",
        "    ### END CODE HERE"
      ]
    },
    {
      "cell_type": "code",
      "execution_count": 15,
      "metadata": {
        "id": "IqVQ0pb3YHLr",
        "colab": {
          "base_uri": "https://localhost:8080/"
        },
        "outputId": "3cc01ba5-914b-4889-ea8a-749f7769aafd"
      },
      "outputs": [
        {
          "output_type": "execute_result",
          "data": {
            "text/plain": [
              "array([[  0,   0,   0,  34, 417],\n",
              "       [  0,   0,  34, 417, 877],\n",
              "       [  0,  34, 417, 877, 166],\n",
              "       [ 34, 417, 877, 166, 213],\n",
              "       [417, 877, 166, 213, 517]], dtype=int32)"
            ]
          },
          "metadata": {},
          "execution_count": 15
        }
      ],
      "source": [
        "# Test your function with the n_grams_seq of the first example\n",
        "first_padded_seq = pad_seqs(first_example_sequence, len(first_example_sequence))\n",
        "first_padded_seq"
      ]
    },
    {
      "cell_type": "markdown",
      "metadata": {
        "id": "Re_avDznXRnU"
      },
      "source": [
        "**Expected Output:**\n",
        "\n",
        "```\n",
        "array([[  0,   0,   0,  34, 417],\n",
        "       [  0,   0,  34, 417, 877],\n",
        "       [  0,  34, 417, 877, 166],\n",
        "       [ 34, 417, 877, 166, 213],\n",
        "       [417, 877, 166, 213, 517]], dtype=int32)\n",
        "```"
      ]
    },
    {
      "cell_type": "code",
      "execution_count": 16,
      "metadata": {
        "id": "j56_UCOBYzZt",
        "colab": {
          "base_uri": "https://localhost:8080/"
        },
        "outputId": "803262b7-a294-4a6d-d142-7b61a877af5d"
      },
      "outputs": [
        {
          "output_type": "execute_result",
          "data": {
            "text/plain": [
              "array([[  0,   0,   0,   0,   0,   0,   8, 878],\n",
              "       [  0,   0,   0,   0,   0,   8, 878, 134],\n",
              "       [  0,   0,   0,   0,   8, 878, 134, 351],\n",
              "       [  0,   0,   0,   8, 878, 134, 351, 102],\n",
              "       [  0,   0,   8, 878, 134, 351, 102, 156],\n",
              "       [  0,   8, 878, 134, 351, 102, 156, 199],\n",
              "       [  0,   0,   0,   0,   0,   0,  16,  22],\n",
              "       [  0,   0,   0,   0,   0,  16,  22,   2],\n",
              "       [  0,   0,   0,   0,  16,  22,   2, 879],\n",
              "       [  0,   0,   0,  16,  22,   2, 879,  61],\n",
              "       [  0,   0,  16,  22,   2, 879,  61,  30],\n",
              "       [  0,  16,  22,   2, 879,  61,  30,  48],\n",
              "       [ 16,  22,   2, 879,  61,  30,  48, 634],\n",
              "       [  0,   0,   0,   0,   0,   0,  25, 311],\n",
              "       [  0,   0,   0,   0,   0,  25, 311, 635],\n",
              "       [  0,   0,   0,   0,  25, 311, 635, 102],\n",
              "       [  0,   0,   0,  25, 311, 635, 102, 200],\n",
              "       [  0,   0,  25, 311, 635, 102, 200,  25],\n",
              "       [  0,  25, 311, 635, 102, 200,  25, 278]], dtype=int32)"
            ]
          },
          "metadata": {},
          "execution_count": 16
        }
      ],
      "source": [
        "# Test your function with the n_grams_seq of the next 3 examples\n",
        "next_3_padded_seq = pad_seqs(next_3_examples_sequence, max([len(s) for s in next_3_examples_sequence]))\n",
        "next_3_padded_seq"
      ]
    },
    {
      "cell_type": "markdown",
      "metadata": {
        "id": "3rmcDluOXcIU"
      },
      "source": [
        "**Expected Output:**\n",
        "\n",
        "```\n",
        "array([[  0,   0,   0,   0,   0,   0,   8, 878],\n",
        "       [  0,   0,   0,   0,   0,   8, 878, 134],\n",
        "       [  0,   0,   0,   0,   8, 878, 134, 351],\n",
        "       [  0,   0,   0,   8, 878, 134, 351, 102],\n",
        "       [  0,   0,   8, 878, 134, 351, 102, 156],\n",
        "       [  0,   8, 878, 134, 351, 102, 156, 199],\n",
        "       [  0,   0,   0,   0,   0,   0,  16,  22],\n",
        "       [  0,   0,   0,   0,   0,  16,  22,   2],\n",
        "       [  0,   0,   0,   0,  16,  22,   2, 879],\n",
        "       [  0,   0,   0,  16,  22,   2, 879,  61],\n",
        "       [  0,   0,  16,  22,   2, 879,  61,  30],\n",
        "       [  0,  16,  22,   2, 879,  61,  30,  48],\n",
        "       [ 16,  22,   2, 879,  61,  30,  48, 634],\n",
        "       [  0,   0,   0,   0,   0,   0,  25, 311],\n",
        "       [  0,   0,   0,   0,   0,  25, 311, 635],\n",
        "       [  0,   0,   0,   0,  25, 311, 635, 102],\n",
        "       [  0,   0,   0,  25, 311, 635, 102, 200],\n",
        "       [  0,   0,  25, 311, 635, 102, 200,  25],\n",
        "       [  0,  25, 311, 635, 102, 200,  25, 278]], dtype=int32)\n",
        "```"
      ]
    },
    {
      "cell_type": "code",
      "execution_count": 17,
      "metadata": {
        "id": "rgK-Q_micEYA",
        "colab": {
          "base_uri": "https://localhost:8080/"
        },
        "outputId": "0dbe72c7-6e92-4d5f-a1e2-d9bf6825da06"
      },
      "outputs": [
        {
          "output_type": "stream",
          "name": "stdout",
          "text": [
            "padded corpus has shape: (15462, 11)\n"
          ]
        }
      ],
      "source": [
        "# Pad the whole corpus\n",
        "input_sequences = pad_seqs(input_sequences, max_sequence_len)\n",
        "\n",
        "print(f\"padded corpus has shape: {input_sequences.shape}\")"
      ]
    },
    {
      "cell_type": "markdown",
      "metadata": {
        "id": "59RD1YYNc7CW"
      },
      "source": [
        "**Expected Output:**\n",
        "\n",
        "```\n",
        "padded corpus has shape: (15462, 11)\n",
        "```"
      ]
    },
    {
      "cell_type": "markdown",
      "metadata": {
        "id": "ZbOidyPrXxf7"
      },
      "source": [
        "## Split the data into features and labels\n",
        "\n",
        "Before feeding the data into the neural network you should split it into features and labels. In this case the features will be the padded n_gram sequences with the last word removed from them and the labels will be the removed word.\n",
        "\n",
        "Complete the `features_and_labels` function below. This function expects the padded n_gram sequences as input and should return a tuple containing the features and the one hot encoded labels.\n",
        "\n",
        "Notice that the function also receives the total of words in the corpus, this parameter will be very important when one hot enconding the labels since every word in the corpus will be a label at least once. If you need a refresh of how the `to_categorical` function works take a look at the [docs](https://www.tensorflow.org/api_docs/python/tf/keras/utils/to_categorical)"
      ]
    },
    {
      "cell_type": "code",
      "execution_count": 18,
      "metadata": {
        "cellView": "code",
        "id": "9WGGbYdnZdmJ"
      },
      "outputs": [],
      "source": [
        "# GRADED FUNCTION: features_and_labels\n",
        "def features_and_labels(input_sequences, total_words):\n",
        "    ### START CODE HERE\n",
        "    features = input_sequences[:,:-1]\n",
        "    labels = input_sequences[:,-1]\n",
        "    one_hot_labels = to_categorical(labels,num_classes=total_words)\n",
        "    ### END CODE HERE\n",
        "\n",
        "    return features, one_hot_labels"
      ]
    },
    {
      "cell_type": "code",
      "execution_count": 19,
      "metadata": {
        "id": "23DolaBRaIAZ",
        "colab": {
          "base_uri": "https://localhost:8080/"
        },
        "outputId": "9df8d305-3d88-48d8-e41a-1a53a4356aff"
      },
      "outputs": [
        {
          "output_type": "stream",
          "name": "stdout",
          "text": [
            "labels have shape: (5, 3211)\n",
            "\n",
            "features look like this:\n",
            "\n"
          ]
        },
        {
          "output_type": "execute_result",
          "data": {
            "text/plain": [
              "array([[  0,   0,   0,  34],\n",
              "       [  0,   0,  34, 417],\n",
              "       [  0,  34, 417, 877],\n",
              "       [ 34, 417, 877, 166],\n",
              "       [417, 877, 166, 213]], dtype=int32)"
            ]
          },
          "metadata": {},
          "execution_count": 19
        }
      ],
      "source": [
        "# Test your function with the padded n_grams_seq of the first example\n",
        "first_features, first_labels = features_and_labels(first_padded_seq, total_words)\n",
        "\n",
        "print(f\"labels have shape: {first_labels.shape}\")\n",
        "print(\"\\nfeatures look like this:\\n\")\n",
        "first_features"
      ]
    },
    {
      "cell_type": "markdown",
      "metadata": {
        "id": "7t4yAx2UaQ43"
      },
      "source": [
        "**Expected Output:**\n",
        "\n",
        "```\n",
        "labels have shape: (5, 3211)\n",
        "\n",
        "features look like this:\n",
        "\n",
        "array([[  0,   0,   0,  34],\n",
        "       [  0,   0,  34, 417],\n",
        "       [  0,  34, 417, 877],\n",
        "       [ 34, 417, 877, 166],\n",
        "       [417, 877, 166, 213]], dtype=int32)\n",
        "```"
      ]
    },
    {
      "cell_type": "code",
      "execution_count": 20,
      "metadata": {
        "id": "GRTuLEt3bRKa",
        "colab": {
          "base_uri": "https://localhost:8080/"
        },
        "outputId": "1cba2c80-6c46-47ae-ad1e-803f540a1bd5"
      },
      "outputs": [
        {
          "output_type": "stream",
          "name": "stdout",
          "text": [
            "features have shape: (15462, 10)\n",
            "labels have shape: (15462, 3211)\n"
          ]
        }
      ],
      "source": [
        "# Split the whole corpus\n",
        "features, labels = features_and_labels(input_sequences, total_words)\n",
        "\n",
        "print(f\"features have shape: {features.shape}\")\n",
        "print(f\"labels have shape: {labels.shape}\")"
      ]
    },
    {
      "cell_type": "markdown",
      "metadata": {
        "id": "xXSMK_HpdLns"
      },
      "source": [
        "**Expected Output:**\n",
        "\n",
        "```\n",
        "features have shape: (15462, 10)\n",
        "labels have shape: (15462, 3211)\n",
        "```"
      ]
    },
    {
      "cell_type": "markdown",
      "metadata": {
        "id": "ltxaOCE_aU6J"
      },
      "source": [
        "## Create the model\n",
        "\n",
        "Now you should define a model architecture capable of achieving an accuracy of at least 80%.\n",
        "\n",
        "Some hints to help you in this task:\n",
        "\n",
        "- An appropriate `output_dim` for the first layer (Embedding) is 100, this is already provided for you.\n",
        "- A Bidirectional LSTM is helpful for this particular problem.\n",
        "- The last layer should have the same number of units as the total number of words in the corpus and a softmax activation function.\n",
        "- This problem can be solved with only two layers (excluding the Embedding) so try out small architectures first."
      ]
    },
    {
      "cell_type": "code",
      "execution_count": 23,
      "metadata": {
        "cellView": "code",
        "id": "XrE6kpJFfvRY"
      },
      "outputs": [],
      "source": [
        "# GRADED FUNCTION: create_model\n",
        "def create_model(total_words, max_sequence_len):\n",
        "    \n",
        "    model = Sequential()\n",
        "    ### START CODE HERE\n",
        "    model.add(Embedding(total_words, 100, \n",
        "                    input_length = max_sequence_len-1))\n",
        "    model.add(Bidirectional(LSTM(150, return_sequences = True)))\n",
        "    model.add(Dropout(0.2))\n",
        "    model.add(LSTM(100))\n",
        "    model.add(Dense(total_words/2, activation = 'relu', \n",
        "                    kernel_regularizer = regularizers.l2(0.01)))\n",
        "    model.add(Dense(total_words, activation = 'softmax'))\n",
        "\n",
        "    # Compile the model\n",
        "    model.compile(loss = 'categorical_crossentropy', \n",
        "              optimizer = 'adam', \n",
        "              metrics = ['accuracy'])\n",
        "    \n",
        "    ### END CODE HERE\n",
        "\n",
        "    return model"
      ]
    },
    {
      "cell_type": "code",
      "execution_count": 26,
      "metadata": {
        "id": "0IpX_Gu_gISk",
        "colab": {
          "base_uri": "https://localhost:8080/"
        },
        "outputId": "7e83efe6-28e1-4d6c-e6b0-ec9862f357a4"
      },
      "outputs": [
        {
          "output_type": "stream",
          "name": "stdout",
          "text": [
            "Epoch 1/150\n",
            "484/484 [==============================] - 18s 26ms/step - loss: 6.9056 - accuracy: 0.0215\n",
            "Epoch 2/150\n",
            "484/484 [==============================] - 13s 26ms/step - loss: 6.5010 - accuracy: 0.0208\n",
            "Epoch 3/150\n",
            "484/484 [==============================] - 13s 26ms/step - loss: 6.4092 - accuracy: 0.0254\n",
            "Epoch 4/150\n",
            "484/484 [==============================] - 13s 26ms/step - loss: 6.2985 - accuracy: 0.0293\n",
            "Epoch 5/150\n",
            "484/484 [==============================] - 13s 26ms/step - loss: 6.2070 - accuracy: 0.0325\n",
            "Epoch 6/150\n",
            "484/484 [==============================] - 13s 26ms/step - loss: 6.1400 - accuracy: 0.0360\n",
            "Epoch 7/150\n",
            "484/484 [==============================] - 13s 26ms/step - loss: 6.0733 - accuracy: 0.0408\n",
            "Epoch 8/150\n",
            "484/484 [==============================] - 13s 26ms/step - loss: 6.0045 - accuracy: 0.0431\n",
            "Epoch 9/150\n",
            "484/484 [==============================] - 12s 26ms/step - loss: 5.9300 - accuracy: 0.0473\n",
            "Epoch 10/150\n",
            "484/484 [==============================] - 13s 26ms/step - loss: 5.8418 - accuracy: 0.0506\n",
            "Epoch 11/150\n",
            "484/484 [==============================] - 13s 26ms/step - loss: 5.7468 - accuracy: 0.0566\n",
            "Epoch 12/150\n",
            "484/484 [==============================] - 13s 26ms/step - loss: 5.6541 - accuracy: 0.0632\n",
            "Epoch 13/150\n",
            "484/484 [==============================] - 13s 26ms/step - loss: 5.5641 - accuracy: 0.0645\n",
            "Epoch 14/150\n",
            "484/484 [==============================] - 13s 26ms/step - loss: 5.4776 - accuracy: 0.0694\n",
            "Epoch 15/150\n",
            "484/484 [==============================] - 13s 26ms/step - loss: 5.4005 - accuracy: 0.0752\n",
            "Epoch 16/150\n",
            "484/484 [==============================] - 13s 26ms/step - loss: 5.3225 - accuracy: 0.0791\n",
            "Epoch 17/150\n",
            "484/484 [==============================] - 13s 26ms/step - loss: 5.2402 - accuracy: 0.0847\n",
            "Epoch 18/150\n",
            "484/484 [==============================] - 13s 26ms/step - loss: 5.1661 - accuracy: 0.0918\n",
            "Epoch 19/150\n",
            "484/484 [==============================] - 13s 26ms/step - loss: 5.0819 - accuracy: 0.0942\n",
            "Epoch 20/150\n",
            "484/484 [==============================] - 13s 26ms/step - loss: 5.0075 - accuracy: 0.1004\n",
            "Epoch 21/150\n",
            "484/484 [==============================] - 13s 26ms/step - loss: 4.9203 - accuracy: 0.1060\n",
            "Epoch 22/150\n",
            "484/484 [==============================] - 13s 26ms/step - loss: 4.8425 - accuracy: 0.1121\n",
            "Epoch 23/150\n",
            "484/484 [==============================] - 13s 26ms/step - loss: 4.7594 - accuracy: 0.1197\n",
            "Epoch 24/150\n",
            "484/484 [==============================] - 13s 26ms/step - loss: 4.6828 - accuracy: 0.1275\n",
            "Epoch 25/150\n",
            "484/484 [==============================] - 13s 26ms/step - loss: 4.5872 - accuracy: 0.1371\n",
            "Epoch 26/150\n",
            "484/484 [==============================] - 13s 26ms/step - loss: 4.5039 - accuracy: 0.1462\n",
            "Epoch 27/150\n",
            "484/484 [==============================] - 13s 26ms/step - loss: 4.4215 - accuracy: 0.1529\n",
            "Epoch 28/150\n",
            "484/484 [==============================] - 13s 26ms/step - loss: 4.3401 - accuracy: 0.1627\n",
            "Epoch 29/150\n",
            "484/484 [==============================] - 13s 26ms/step - loss: 4.2529 - accuracy: 0.1740\n",
            "Epoch 30/150\n",
            "484/484 [==============================] - 13s 26ms/step - loss: 4.1705 - accuracy: 0.1821\n",
            "Epoch 31/150\n",
            "484/484 [==============================] - 13s 26ms/step - loss: 4.0800 - accuracy: 0.1948\n",
            "Epoch 32/150\n",
            "484/484 [==============================] - 13s 26ms/step - loss: 3.9960 - accuracy: 0.2024\n",
            "Epoch 33/150\n",
            "484/484 [==============================] - 13s 26ms/step - loss: 3.9161 - accuracy: 0.2165\n",
            "Epoch 34/150\n",
            "484/484 [==============================] - 13s 26ms/step - loss: 3.8423 - accuracy: 0.2326\n",
            "Epoch 35/150\n",
            "484/484 [==============================] - 13s 26ms/step - loss: 3.7656 - accuracy: 0.2481\n",
            "Epoch 36/150\n",
            "484/484 [==============================] - 12s 26ms/step - loss: 3.6903 - accuracy: 0.2600\n",
            "Epoch 37/150\n",
            "484/484 [==============================] - 12s 25ms/step - loss: 3.6095 - accuracy: 0.2778\n",
            "Epoch 38/150\n",
            "484/484 [==============================] - 12s 26ms/step - loss: 3.5380 - accuracy: 0.2928\n",
            "Epoch 39/150\n",
            "484/484 [==============================] - 12s 25ms/step - loss: 3.4726 - accuracy: 0.3082\n",
            "Epoch 40/150\n",
            "484/484 [==============================] - 12s 25ms/step - loss: 3.4053 - accuracy: 0.3220\n",
            "Epoch 41/150\n",
            "484/484 [==============================] - 12s 26ms/step - loss: 3.3337 - accuracy: 0.3395\n",
            "Epoch 42/150\n",
            "484/484 [==============================] - 12s 26ms/step - loss: 3.2698 - accuracy: 0.3523\n",
            "Epoch 43/150\n",
            "484/484 [==============================] - 12s 26ms/step - loss: 3.2009 - accuracy: 0.3664\n",
            "Epoch 44/150\n",
            "484/484 [==============================] - 12s 26ms/step - loss: 3.1437 - accuracy: 0.3778\n",
            "Epoch 45/150\n",
            "484/484 [==============================] - 12s 25ms/step - loss: 3.0726 - accuracy: 0.3965\n",
            "Epoch 46/150\n",
            "484/484 [==============================] - 12s 26ms/step - loss: 3.0296 - accuracy: 0.4050\n",
            "Epoch 47/150\n",
            "484/484 [==============================] - 12s 26ms/step - loss: 2.9694 - accuracy: 0.4184\n",
            "Epoch 48/150\n",
            "484/484 [==============================] - 12s 26ms/step - loss: 2.9136 - accuracy: 0.4324\n",
            "Epoch 49/150\n",
            "484/484 [==============================] - 12s 26ms/step - loss: 2.8616 - accuracy: 0.4382\n",
            "Epoch 50/150\n",
            "484/484 [==============================] - 12s 26ms/step - loss: 2.8034 - accuracy: 0.4577\n",
            "Epoch 51/150\n",
            "484/484 [==============================] - 12s 26ms/step - loss: 2.7530 - accuracy: 0.4663\n",
            "Epoch 52/150\n",
            "484/484 [==============================] - 12s 25ms/step - loss: 2.6981 - accuracy: 0.4779\n",
            "Epoch 53/150\n",
            "484/484 [==============================] - 12s 26ms/step - loss: 2.6558 - accuracy: 0.4878\n",
            "Epoch 54/150\n",
            "484/484 [==============================] - 12s 26ms/step - loss: 2.6011 - accuracy: 0.4977\n",
            "Epoch 55/150\n",
            "484/484 [==============================] - 12s 26ms/step - loss: 2.5628 - accuracy: 0.5065\n",
            "Epoch 56/150\n",
            "484/484 [==============================] - 12s 25ms/step - loss: 2.5073 - accuracy: 0.5196\n",
            "Epoch 57/150\n",
            "484/484 [==============================] - 12s 26ms/step - loss: 2.4673 - accuracy: 0.5330\n",
            "Epoch 58/150\n",
            "484/484 [==============================] - 12s 25ms/step - loss: 2.4184 - accuracy: 0.5401\n",
            "Epoch 59/150\n",
            "484/484 [==============================] - 12s 26ms/step - loss: 2.3841 - accuracy: 0.5445\n",
            "Epoch 60/150\n",
            "484/484 [==============================] - 12s 26ms/step - loss: 2.3471 - accuracy: 0.5551\n",
            "Epoch 61/150\n",
            "484/484 [==============================] - 12s 25ms/step - loss: 2.3027 - accuracy: 0.5700\n",
            "Epoch 62/150\n",
            "484/484 [==============================] - 12s 25ms/step - loss: 2.2686 - accuracy: 0.5734\n",
            "Epoch 63/150\n",
            "484/484 [==============================] - 12s 25ms/step - loss: 2.2383 - accuracy: 0.5815\n",
            "Epoch 64/150\n",
            "484/484 [==============================] - 12s 25ms/step - loss: 2.2006 - accuracy: 0.5902\n",
            "Epoch 65/150\n",
            "484/484 [==============================] - 12s 25ms/step - loss: 2.1573 - accuracy: 0.5966\n",
            "Epoch 66/150\n",
            "484/484 [==============================] - 12s 25ms/step - loss: 2.1175 - accuracy: 0.6055\n",
            "Epoch 67/150\n",
            "484/484 [==============================] - 12s 25ms/step - loss: 2.0905 - accuracy: 0.6133\n",
            "Epoch 68/150\n",
            "484/484 [==============================] - 12s 25ms/step - loss: 2.0549 - accuracy: 0.6226\n",
            "Epoch 69/150\n",
            "484/484 [==============================] - 12s 25ms/step - loss: 2.0223 - accuracy: 0.6301\n",
            "Epoch 70/150\n",
            "484/484 [==============================] - 12s 25ms/step - loss: 1.9859 - accuracy: 0.6385\n",
            "Epoch 71/150\n",
            "484/484 [==============================] - 12s 25ms/step - loss: 1.9628 - accuracy: 0.6436\n",
            "Epoch 72/150\n",
            "484/484 [==============================] - 12s 25ms/step - loss: 1.9317 - accuracy: 0.6526\n",
            "Epoch 73/150\n",
            "484/484 [==============================] - 12s 25ms/step - loss: 1.9050 - accuracy: 0.6535\n",
            "Epoch 74/150\n",
            "484/484 [==============================] - 12s 25ms/step - loss: 1.8734 - accuracy: 0.6640\n",
            "Epoch 75/150\n",
            "484/484 [==============================] - 12s 25ms/step - loss: 1.8449 - accuracy: 0.6690\n",
            "Epoch 76/150\n",
            "484/484 [==============================] - 12s 25ms/step - loss: 1.8270 - accuracy: 0.6715\n",
            "Epoch 77/150\n",
            "484/484 [==============================] - 12s 25ms/step - loss: 1.8097 - accuracy: 0.6778\n",
            "Epoch 78/150\n",
            "484/484 [==============================] - 12s 25ms/step - loss: 1.7751 - accuracy: 0.6843\n",
            "Epoch 79/150\n",
            "484/484 [==============================] - 12s 25ms/step - loss: 1.7528 - accuracy: 0.6850\n",
            "Epoch 80/150\n",
            "484/484 [==============================] - 12s 25ms/step - loss: 1.7294 - accuracy: 0.6962\n",
            "Epoch 81/150\n",
            "484/484 [==============================] - 12s 25ms/step - loss: 1.6952 - accuracy: 0.7020\n",
            "Epoch 82/150\n",
            "484/484 [==============================] - 11s 24ms/step - loss: 1.6862 - accuracy: 0.7015\n",
            "Epoch 83/150\n",
            "484/484 [==============================] - 11s 23ms/step - loss: 1.6533 - accuracy: 0.7084\n",
            "Epoch 84/150\n",
            "484/484 [==============================] - 11s 23ms/step - loss: 1.6490 - accuracy: 0.7076\n",
            "Epoch 85/150\n",
            "484/484 [==============================] - 11s 23ms/step - loss: 1.6105 - accuracy: 0.7203\n",
            "Epoch 86/150\n",
            "484/484 [==============================] - 11s 24ms/step - loss: 1.5905 - accuracy: 0.7224\n",
            "Epoch 87/150\n",
            "484/484 [==============================] - 11s 23ms/step - loss: 1.5823 - accuracy: 0.7267\n",
            "Epoch 88/150\n",
            "484/484 [==============================] - 11s 23ms/step - loss: 1.5552 - accuracy: 0.7286\n",
            "Epoch 89/150\n",
            "484/484 [==============================] - 11s 24ms/step - loss: 1.5414 - accuracy: 0.7311\n",
            "Epoch 90/150\n",
            "484/484 [==============================] - 11s 23ms/step - loss: 1.5152 - accuracy: 0.7392\n",
            "Epoch 91/150\n",
            "484/484 [==============================] - 11s 23ms/step - loss: 1.5010 - accuracy: 0.7418\n",
            "Epoch 92/150\n",
            "484/484 [==============================] - 11s 23ms/step - loss: 1.4916 - accuracy: 0.7440\n",
            "Epoch 93/150\n",
            "484/484 [==============================] - 11s 23ms/step - loss: 1.4835 - accuracy: 0.7400\n",
            "Epoch 94/150\n",
            "484/484 [==============================] - 11s 23ms/step - loss: 1.4633 - accuracy: 0.7472\n",
            "Epoch 95/150\n",
            "484/484 [==============================] - 11s 23ms/step - loss: 1.4529 - accuracy: 0.7507\n",
            "Epoch 96/150\n",
            "484/484 [==============================] - 11s 24ms/step - loss: 1.4298 - accuracy: 0.7532\n",
            "Epoch 97/150\n",
            "484/484 [==============================] - 11s 24ms/step - loss: 1.4130 - accuracy: 0.7564\n",
            "Epoch 98/150\n",
            "484/484 [==============================] - 11s 23ms/step - loss: 1.4064 - accuracy: 0.7562\n",
            "Epoch 99/150\n",
            "484/484 [==============================] - 11s 23ms/step - loss: 1.3873 - accuracy: 0.7618\n",
            "Epoch 100/150\n",
            "484/484 [==============================] - 11s 23ms/step - loss: 1.3636 - accuracy: 0.7668\n",
            "Epoch 101/150\n",
            "484/484 [==============================] - 11s 23ms/step - loss: 1.3326 - accuracy: 0.7753\n",
            "Epoch 102/150\n",
            "484/484 [==============================] - 11s 23ms/step - loss: 1.3515 - accuracy: 0.7652\n",
            "Epoch 103/150\n",
            "484/484 [==============================] - 11s 23ms/step - loss: 1.3349 - accuracy: 0.7681\n",
            "Epoch 104/150\n",
            "484/484 [==============================] - 11s 23ms/step - loss: 1.3186 - accuracy: 0.7734\n",
            "Epoch 105/150\n",
            "484/484 [==============================] - 11s 23ms/step - loss: 1.3124 - accuracy: 0.7740\n",
            "Epoch 106/150\n",
            "484/484 [==============================] - 11s 23ms/step - loss: 1.3024 - accuracy: 0.7773\n",
            "Epoch 107/150\n",
            "484/484 [==============================] - 11s 23ms/step - loss: 1.2901 - accuracy: 0.7784\n",
            "Epoch 108/150\n",
            "484/484 [==============================] - 11s 24ms/step - loss: 1.2681 - accuracy: 0.7859\n",
            "Epoch 109/150\n",
            "484/484 [==============================] - 11s 23ms/step - loss: 1.2630 - accuracy: 0.7817\n",
            "Epoch 110/150\n",
            "484/484 [==============================] - 11s 23ms/step - loss: 1.2485 - accuracy: 0.7857\n",
            "Epoch 111/150\n",
            "484/484 [==============================] - 11s 23ms/step - loss: 1.2431 - accuracy: 0.7877\n",
            "Epoch 112/150\n",
            "484/484 [==============================] - 11s 24ms/step - loss: 1.2484 - accuracy: 0.7850\n",
            "Epoch 113/150\n",
            "484/484 [==============================] - 11s 23ms/step - loss: 1.2272 - accuracy: 0.7907\n",
            "Epoch 114/150\n",
            "484/484 [==============================] - 11s 24ms/step - loss: 1.2090 - accuracy: 0.7950\n",
            "Epoch 115/150\n",
            "484/484 [==============================] - 11s 24ms/step - loss: 1.1911 - accuracy: 0.7977\n",
            "Epoch 116/150\n",
            "484/484 [==============================] - 12s 24ms/step - loss: 1.1907 - accuracy: 0.7936\n",
            "Epoch 117/150\n",
            "484/484 [==============================] - 11s 24ms/step - loss: 1.1790 - accuracy: 0.7970\n",
            "Epoch 118/150\n",
            "484/484 [==============================] - 11s 24ms/step - loss: 1.1732 - accuracy: 0.7972\n",
            "Epoch 119/150\n",
            "484/484 [==============================] - 12s 24ms/step - loss: 1.1644 - accuracy: 0.8002\n",
            "Epoch 120/150\n",
            "484/484 [==============================] - 12s 24ms/step - loss: 1.1487 - accuracy: 0.8019\n",
            "Epoch 121/150\n",
            "484/484 [==============================] - 12s 24ms/step - loss: 1.1365 - accuracy: 0.8031\n",
            "Epoch 122/150\n",
            "484/484 [==============================] - 12s 24ms/step - loss: 1.1375 - accuracy: 0.8017\n",
            "Epoch 123/150\n",
            "484/484 [==============================] - 11s 24ms/step - loss: 1.1311 - accuracy: 0.8045\n",
            "Epoch 124/150\n",
            "484/484 [==============================] - 11s 24ms/step - loss: 1.1219 - accuracy: 0.8054\n",
            "Epoch 125/150\n",
            "484/484 [==============================] - 12s 24ms/step - loss: 1.1190 - accuracy: 0.8028\n",
            "Epoch 126/150\n",
            "484/484 [==============================] - 12s 24ms/step - loss: 1.1210 - accuracy: 0.8057\n",
            "Epoch 127/150\n",
            "484/484 [==============================] - 12s 24ms/step - loss: 1.0892 - accuracy: 0.8101\n",
            "Epoch 128/150\n",
            "484/484 [==============================] - 12s 24ms/step - loss: 1.1005 - accuracy: 0.8053\n",
            "Epoch 129/150\n",
            "484/484 [==============================] - 12s 24ms/step - loss: 1.0963 - accuracy: 0.8075\n",
            "Epoch 130/150\n",
            "484/484 [==============================] - 12s 24ms/step - loss: 1.0918 - accuracy: 0.8106\n",
            "Epoch 131/150\n",
            "484/484 [==============================] - 12s 24ms/step - loss: 1.0864 - accuracy: 0.8104\n",
            "Epoch 132/150\n",
            "484/484 [==============================] - 12s 24ms/step - loss: 1.0644 - accuracy: 0.8130\n",
            "Epoch 133/150\n",
            "484/484 [==============================] - 12s 24ms/step - loss: 1.0593 - accuracy: 0.8138\n",
            "Epoch 134/150\n",
            "484/484 [==============================] - 11s 24ms/step - loss: 1.0691 - accuracy: 0.8128\n",
            "Epoch 135/150\n",
            "484/484 [==============================] - 12s 24ms/step - loss: 1.0508 - accuracy: 0.8156\n",
            "Epoch 136/150\n",
            "484/484 [==============================] - 12s 24ms/step - loss: 1.0532 - accuracy: 0.8128\n",
            "Epoch 137/150\n",
            "484/484 [==============================] - 12s 24ms/step - loss: 1.0392 - accuracy: 0.8168\n",
            "Epoch 138/150\n",
            "484/484 [==============================] - 11s 24ms/step - loss: 1.0368 - accuracy: 0.8167\n",
            "Epoch 139/150\n",
            "484/484 [==============================] - 11s 24ms/step - loss: 1.0282 - accuracy: 0.8173\n",
            "Epoch 140/150\n",
            "484/484 [==============================] - 12s 24ms/step - loss: 1.0236 - accuracy: 0.8183\n",
            "Epoch 141/150\n",
            "484/484 [==============================] - 12s 24ms/step - loss: 1.0354 - accuracy: 0.8133\n",
            "Epoch 142/150\n",
            "484/484 [==============================] - 12s 24ms/step - loss: 1.0277 - accuracy: 0.8135\n",
            "Epoch 143/150\n",
            "484/484 [==============================] - 12s 24ms/step - loss: 1.0140 - accuracy: 0.8181\n",
            "Epoch 144/150\n",
            "484/484 [==============================] - 11s 24ms/step - loss: 1.0081 - accuracy: 0.8200\n",
            "Epoch 145/150\n",
            "484/484 [==============================] - 12s 24ms/step - loss: 1.0050 - accuracy: 0.8206\n",
            "Epoch 146/150\n",
            "484/484 [==============================] - 12s 24ms/step - loss: 0.9885 - accuracy: 0.8252\n",
            "Epoch 147/150\n",
            "484/484 [==============================] - 11s 24ms/step - loss: 0.9865 - accuracy: 0.8226\n",
            "Epoch 148/150\n",
            "484/484 [==============================] - 11s 23ms/step - loss: 0.9807 - accuracy: 0.8220\n",
            "Epoch 149/150\n",
            "484/484 [==============================] - 11s 24ms/step - loss: 0.9864 - accuracy: 0.8231\n",
            "Epoch 150/150\n",
            "484/484 [==============================] - 11s 24ms/step - loss: 0.9914 - accuracy: 0.8197\n"
          ]
        }
      ],
      "source": [
        "# Get the untrained model\n",
        "model = create_model(total_words, max_sequence_len)\n",
        "\n",
        "# Train the model\n",
        "history = model.fit(features, labels, epochs=150, verbose=1)"
      ]
    },
    {
      "cell_type": "markdown",
      "metadata": {
        "id": "gy72RPgly55q"
      },
      "source": [
        "**To pass this assignment, your model should achieve a training accuracy of at least 80%**. If your model didn't achieve this threshold, try training again with a different model architecture, consider increasing the number of unit in your `LSTM` layer."
      ]
    },
    {
      "cell_type": "code",
      "execution_count": 27,
      "metadata": {
        "id": "1fXTEO3GJ282",
        "colab": {
          "base_uri": "https://localhost:8080/",
          "height": 545
        },
        "outputId": "8de41696-9443-46a9-fad7-3dda8ce4bb8a"
      },
      "outputs": [
        {
          "output_type": "display_data",
          "data": {
            "text/plain": [
              "<Figure size 432x288 with 1 Axes>"
            ],
            "image/png": "[encoded data removed]"
          },
          "metadata": {
            "needs_background": "light"
          }
        },
        {
          "output_type": "display_data",
          "data": {
            "text/plain": [
              "<Figure size 432x288 with 1 Axes>"
            ],
            "image/png": "[encoded data removed]"
          },
          "metadata": {
            "needs_background": "light"
          }
        }
      ],
      "source": [
        "# Take a look at the training curves of your model\n",
        "\n",
        "acc = history.history['accuracy']\n",
        "loss = history.history['loss']\n",
        "\n",
        "epochs = range(len(acc))\n",
        "\n",
        "plt.plot(epochs, acc, 'b', label='Training accuracy')\n",
        "plt.title('Training accuracy')\n",
        "\n",
        "plt.figure()\n",
        "\n",
        "plt.plot(epochs, loss, 'b', label='Training Loss')\n",
        "plt.title('Training loss')\n",
        "plt.legend()\n",
        "\n",
        "plt.show()"
      ]
    },
    {
      "cell_type": "markdown",
      "metadata": {
        "id": "OjvED5A3qrn2"
      },
      "source": [
        "Before closing the assignment, be sure to also download the `history.pkl` file which contains the information of the training history of your model and will be used to compute your grade. You can download this file by running the cell below:"
      ]
    },
    {
      "cell_type": "code",
      "execution_count": 28,
      "metadata": {
        "id": "9QRG73l6qE-c",
        "colab": {
          "base_uri": "https://localhost:8080/",
          "height": 17
        },
        "outputId": "bd504768-cce1-4372-940d-dc66a4bc0a47"
      },
      "outputs": [
        {
          "output_type": "display_data",
          "data": {
            "text/plain": [
              "<IPython.core.display.Javascript object>"
            ],
            "application/javascript": [
              "\n",
              "    async function download(id, filename, size) {\n",
              "      if (!google.colab.kernel.accessAllowed) {\n",
              "        return;\n",
              "      }\n",
              "      const div = document.createElement('div');\n",
              "      const label = document.createElement('label');\n",
              "      label.textContent = `Downloading \"${filename}\": `;\n",
              "      div.appendChild(label);\n",
              "      const progress = document.createElement('progress');\n",
              "      progress.max = size;\n",
              "      div.appendChild(progress);\n",
              "      document.body.appendChild(div);\n",
              "\n",
              "      const buffers = [];\n",
              "      let downloaded = 0;\n",
              "\n",
              "      const channel = await google.colab.kernel.comms.open(id);\n",
              "      // Send a message to notify the kernel that we're ready.\n",
              "      channel.send({})\n",
              "\n",
              "      for await (const message of channel.messages) {\n",
              "        // Send a message to notify the kernel that we're ready.\n",
              "        channel.send({})\n",
              "        if (message.buffers) {\n",
              "          for (const buffer of message.buffers) {\n",
              "            buffers.push(buffer);\n",
              "            downloaded += buffer.byteLength;\n",
              "            progress.value = downloaded;\n",
              "          }\n",
              "        }\n",
              "      }\n",
              "      const blob = new Blob(buffers, {type: 'application/binary'});\n",
              "      const a = document.createElement('a');\n",
              "      a.href = window.URL.createObjectURL(blob);\n",
              "      a.download = filename;\n",
              "      div.appendChild(a);\n",
              "      a.click();\n",
              "      div.remove();\n",
              "    }\n",
              "  "
            ]
          },
          "metadata": {}
        },
        {
          "output_type": "display_data",
          "data": {
            "text/plain": [
              "<IPython.core.display.Javascript object>"
            ],
            "application/javascript": [
              "download(\"download_5311b47c-d972-4624-a145-07fe16fcc48d\", \"history.pkl\", 2744)"
            ]
          },
          "metadata": {}
        }
      ],
      "source": [
        "def download_history():\n",
        "  import pickle\n",
        "  from google.colab import files\n",
        "\n",
        "  with open('history.pkl', 'wb') as f:\n",
        "    pickle.dump(history.history, f)\n",
        "\n",
        "  files.download('history.pkl')\n",
        "\n",
        "download_history()"
      ]
    },
    {
      "cell_type": "markdown",
      "metadata": {
        "id": "wdsMszk9zBs_"
      },
      "source": [
        "## See your model in action\n",
        "\n",
        "After all your work it is finally time to see your model generating text. \n",
        "\n",
        "Run the cell below to generate the next 100 words of a seed text.\n",
        "\n",
        "After submitting your assignment you are encouraged to try out training for different amounts of epochs and seeing how this affects the coherency of the generated text. Also try changing the seed text to see what you get!"
      ]
    },
    {
      "cell_type": "code",
      "execution_count": 29,
      "metadata": {
        "id": "6Vc6PHgxa6Hm",
        "colab": {
          "base_uri": "https://localhost:8080/"
        },
        "outputId": "80a10b90-416e-4b77-f11e-5ad25ce6d0c4"
      },
      "outputs": [
        {
          "output_type": "stream",
          "name": "stdout",
          "text": [
            "Help me Obi Wan Kenobi, you're my only hope no interim behold ye small deeds or of weeds or ill so die be dear departest spent out of bring year praise him one ill or be me things truth things riper new time long days are rich ' seen turn'd cold rage sang acquainted new belied can flowers compare trust of one ill light light forgot of cross sun deep ill eyes lend his son dying be flow thee still fair foes fuel minds we treasure now torn foes place spite of small eyes respect lie so fair so take thy love hate rage of meetness outworn of your\n"
          ]
        }
      ],
      "source": [
        "seed_text = \"Help me Obi Wan Kenobi, you're my only hope\"\n",
        "next_words = 100\n",
        "  \n",
        "for _ in range(next_words):\n",
        "\t# Convert the text into sequences\n",
        "\ttoken_list = tokenizer.texts_to_sequences([seed_text])[0]\n",
        "\t# Pad the sequences\n",
        "\ttoken_list = pad_sequences([token_list], maxlen=max_sequence_len-1, padding='pre')\n",
        "\t# Get the probabilities of predicting a word\n",
        "\tpredicted = model.predict(token_list, verbose=0)\n",
        "\t# Choose the next word based on the maximum probability\n",
        "\tpredicted = np.argmax(predicted, axis=-1).item()\n",
        "\t# Get the actual word from the word index\n",
        "\toutput_word = tokenizer.index_word[predicted]\n",
        "\t# Append to the current text\n",
        "\tseed_text += \" \" + output_word\n",
        "\n",
        "print(seed_text)"
      ]
    },
    {
      "cell_type": "markdown",
      "metadata": {
        "id": "oQVDbdcYqSux"
      },
      "source": [
        "You will also need to submit this notebook for grading. To download it, click on the File tab in the upper left corner of the screen then click on Download -> Download .ipynb. You can name it anything you want as long as it is a valid .ipynb (jupyter notebook) file.\n",
        "\n",
        "**Congratulations on finishing this week's assignment!**\n",
        "\n",
        "You have successfully implemented a neural network capable of predicting the next word in a sequence of text!\n",
        "\n",
        "**We hope to see you in the next course of the specialization! Keep it up!**"
      ]
    }
  ],
  "metadata": {
    "jupytext": {
      "main_language": "python"
    },
    "accelerator": "GPU",
    "kernelspec": {
      "display_name": "Python 3",
      "name": "python3"
    },
    "colab": {
      "name": "C3W4_Assignment.ipynb",
      "provenance": []
    }
  },
  "nbformat": 4,
  "nbformat_minor": 0
}